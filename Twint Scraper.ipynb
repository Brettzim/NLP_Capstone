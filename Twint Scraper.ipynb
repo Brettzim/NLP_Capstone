{
 "cells": [
  {
   "cell_type": "code",
   "execution_count": 1,
   "metadata": {},
   "outputs": [],
   "source": [
    "import nest_asyncio\n",
    "import twint\n",
    "import pandas as pd\n",
    "nest_asyncio.apply()\n",
    "c = twint.Config()"
   ]
  },
  {
   "cell_type": "code",
   "execution_count": 76,
   "metadata": {},
   "outputs": [
    {
     "name": "stdout",
     "output_type": "stream",
     "text": [
      "263785195340185600 2012-10-31 19:31:06 -0400 <Pepamint83> Im worried about my client in Zone A &amp; my 104 yr old aunt. Plz check on UR neighbors especially the elderly many still have no power #Sandy\n",
      "263780714271625216 2012-10-31 19:13:17 -0400 <52goldtop_> Can't imagine what it's like for the sick &amp; elderly on the East Coast. Listening to their stories on the radio makes me so very sad. #sandy\n",
      "263780695015571456 2012-10-31 19:13:13 -0400 <RenattB> Want to volunteer and help the elderly that have been hit by #Sandy? #Dorot could use your help.  http://t.co/bkt6fPMH\n",
      "263778360046542848 2012-10-31 19:03:56 -0400 <cazar574> just left sandy shelter near my house so many babies &amp; elderly people. Sending love &amp; prayers to anyone whose feeling a loss\n",
      "263773430204219393 2012-10-31 18:44:21 -0400 <BenResner> Not sure if its my elderly age or Sandy thats holding me back\n",
      "263767137372487681 2012-10-31 18:19:20 -0400 <sahnetaeter> RT @humanityroad: #Sandy Be a good neighbor, check on neighbors, diabetics, elderly  who may need help or medicines &amp; have no cell phone...\n",
      "263763763365289987 2012-10-31 18:05:56 -0400 <latte_oz> RT @humanityroad: #Sandy Be a good neighbor, check on neighbors, diabetics, elderly  who may need help or medicines &amp; have no cell phone...\n",
      "263763723448102912 2012-10-31 18:05:46 -0400 <easypim> I wonder how many elderly people were effected by Sandy? I wonder if their children can help them with the paperwork? Could you?...\n",
      "263753027721240577 2012-10-31 17:23:16 -0400 <hwatkins927> In Sandy's aftermath...please check-in on elderly neighbors and those w/ disabilities who may require assistance and live in effected areas.\n",
      "263752629228810241 2012-10-31 17:21:41 -0400 <michaelmiraflor> Chinatown south of Delancey especially cut off. Many elderly and immobile haven't heard any news in 2 days. #Sandy\n",
      "263751933238603778 2012-10-31 17:18:56 -0400 <michaelmiraflor> Where is the Red Cross in Downtown NYC?? Elderly and families are dumpster diving for food. #Sandy  http://t.co/D3XBMdwo\n",
      "263748981182562306 2012-10-31 17:07:11 -0400 <SportingBecky> #Obama #Romney #Elderly People need help #Sandy @FEMA #Fema\n",
      "263747584814882816 2012-10-31 17:01:39 -0400 <Dina_the_Diva> Went to my grandparents house to check on them. Sucks to be elderly with out power! #Sandy\n",
      "263747501272752128 2012-10-31 17:01:19 -0400 <CreatingResults> Another thoughtful post from @AgingTech: After Sandy, think about elevators &amp; the elderly  http://t.co/FiUO2eZS\n",
      "263747036908761088 2012-10-31 16:59:28 -0400 <OpPinkPower> ♺ @PicoBee @Nervana_1 @bebird “Wittenberg road back up ignored lots of elderly here cold now toad still out” #Sandy @CentralHudson\n",
      "263745074125500417 2012-10-31 16:51:40 -0400 <LJBrownstein> The @MarksJCH is doing important disaster relief work with vulnerable, elderly south Brooklyn residents.  http://t.co/Uto3QUNZ #sandy\n",
      "263743689472503808 2012-10-31 16:46:10 -0400 <terrainsvagues> Please donate to  http://t.co/QxmyZhUv, a tiny food kitchen trying to feed 500 elderly/disabled #Sandy evacuees from Adult Care homes #help\n",
      "263739645483966465 2012-10-31 16:30:06 -0400 <CEZPickering_RN> We need more funding for disaster research! Alzheimer’s patient refused to evacuate  http://t.co/fxWxdJGm  @CDCgov #dementia #elderly #sandy\n",
      "263717816023281664 2012-10-31 15:03:21 -0400 <kathleenhoran> Hundreds at evac ctr @parkslopearmory this is a special needs ctr caring for the sick + elderly. #sandy\n",
      "263712698716545026 2012-10-31 14:43:01 -0400 <McBlondeLand> #sad Elderly couple &amp; their son ran to the attic to escape waters of #sandy but didn't have an ax to get out. Older man = critical condition\n",
      "[!] No more data! Scraping will stop now.\n",
      "found 0 deleted tweets in this search.\n"
     ]
    }
   ],
   "source": [
    "def columne_names():\n",
    "    return twint.output.panda.Tweets_df.columns\n",
    "def twint_to_pd(columns):\n",
    "    return twint.output.panda.Tweets_df[columns]\n",
    "\n",
    "c.Search= 'Sandy elderly'\n",
    "c.Lang= 'en'\n",
    "c.Pandas= True\n",
    "#c.Limit= 100\n",
    "c.Since = '2012-10-20'\n",
    "c.Until = '2012-11-02'\n",
    "twint.run.Search(c)"
   ]
  },
  {
   "cell_type": "code",
   "execution_count": 77,
   "metadata": {},
   "outputs": [],
   "source": [
    "data= twint_to_pd(['tweet'])"
   ]
  },
  {
   "cell_type": "code",
   "execution_count": 78,
   "metadata": {},
   "outputs": [
    {
     "data": {
      "text/html": [
       "<div>\n",
       "<style scoped>\n",
       "    .dataframe tbody tr th:only-of-type {\n",
       "        vertical-align: middle;\n",
       "    }\n",
       "\n",
       "    .dataframe tbody tr th {\n",
       "        vertical-align: top;\n",
       "    }\n",
       "\n",
       "    .dataframe thead th {\n",
       "        text-align: right;\n",
       "    }\n",
       "</style>\n",
       "<table border=\"1\" class=\"dataframe\">\n",
       "  <thead>\n",
       "    <tr style=\"text-align: right;\">\n",
       "      <th></th>\n",
       "      <th>tweet</th>\n",
       "    </tr>\n",
       "  </thead>\n",
       "  <tbody>\n",
       "    <tr>\n",
       "      <th>0</th>\n",
       "      <td>Im worried about my client in Zone A &amp;amp; my ...</td>\n",
       "    </tr>\n",
       "    <tr>\n",
       "      <th>1</th>\n",
       "      <td>Can't imagine what it's like for the sick &amp;amp...</td>\n",
       "    </tr>\n",
       "    <tr>\n",
       "      <th>2</th>\n",
       "      <td>Want to volunteer and help the elderly that ha...</td>\n",
       "    </tr>\n",
       "    <tr>\n",
       "      <th>3</th>\n",
       "      <td>just left sandy shelter near my house so many ...</td>\n",
       "    </tr>\n",
       "    <tr>\n",
       "      <th>4</th>\n",
       "      <td>Not sure if its my elderly age or Sandy thats ...</td>\n",
       "    </tr>\n",
       "    <tr>\n",
       "      <th>5</th>\n",
       "      <td>RT @humanityroad: #Sandy Be a good neighbor, c...</td>\n",
       "    </tr>\n",
       "    <tr>\n",
       "      <th>6</th>\n",
       "      <td>RT @humanityroad: #Sandy Be a good neighbor, c...</td>\n",
       "    </tr>\n",
       "    <tr>\n",
       "      <th>7</th>\n",
       "      <td>I wonder how many elderly people were effected...</td>\n",
       "    </tr>\n",
       "    <tr>\n",
       "      <th>8</th>\n",
       "      <td>In Sandy's aftermath...please check-in on elde...</td>\n",
       "    </tr>\n",
       "    <tr>\n",
       "      <th>9</th>\n",
       "      <td>Chinatown south of Delancey especially cut off...</td>\n",
       "    </tr>\n",
       "    <tr>\n",
       "      <th>10</th>\n",
       "      <td>Where is the Red Cross in Downtown NYC?? Elder...</td>\n",
       "    </tr>\n",
       "    <tr>\n",
       "      <th>11</th>\n",
       "      <td>#Obama #Romney #Elderly People need help #Sand...</td>\n",
       "    </tr>\n",
       "    <tr>\n",
       "      <th>12</th>\n",
       "      <td>Went to my grandparents house to check on them...</td>\n",
       "    </tr>\n",
       "    <tr>\n",
       "      <th>13</th>\n",
       "      <td>Another thoughtful post from @AgingTech: After...</td>\n",
       "    </tr>\n",
       "    <tr>\n",
       "      <th>14</th>\n",
       "      <td>♺ @PicoBee @Nervana_1 @bebird “Wittenberg road...</td>\n",
       "    </tr>\n",
       "    <tr>\n",
       "      <th>15</th>\n",
       "      <td>The @MarksJCH is doing important disaster reli...</td>\n",
       "    </tr>\n",
       "    <tr>\n",
       "      <th>16</th>\n",
       "      <td>Please donate to  http://t.co/QxmyZhUv, a tiny...</td>\n",
       "    </tr>\n",
       "    <tr>\n",
       "      <th>17</th>\n",
       "      <td>We need more funding for disaster research! Al...</td>\n",
       "    </tr>\n",
       "    <tr>\n",
       "      <th>18</th>\n",
       "      <td>Hundreds at evac ctr @parkslopearmory this is ...</td>\n",
       "    </tr>\n",
       "    <tr>\n",
       "      <th>19</th>\n",
       "      <td>#sad Elderly couple &amp;amp; their son ran to the...</td>\n",
       "    </tr>\n",
       "  </tbody>\n",
       "</table>\n",
       "</div>"
      ],
      "text/plain": [
       "                                                tweet\n",
       "0   Im worried about my client in Zone A &amp; my ...\n",
       "1   Can't imagine what it's like for the sick &amp...\n",
       "2   Want to volunteer and help the elderly that ha...\n",
       "3   just left sandy shelter near my house so many ...\n",
       "4   Not sure if its my elderly age or Sandy thats ...\n",
       "5   RT @humanityroad: #Sandy Be a good neighbor, c...\n",
       "6   RT @humanityroad: #Sandy Be a good neighbor, c...\n",
       "7   I wonder how many elderly people were effected...\n",
       "8   In Sandy's aftermath...please check-in on elde...\n",
       "9   Chinatown south of Delancey especially cut off...\n",
       "10  Where is the Red Cross in Downtown NYC?? Elder...\n",
       "11  #Obama #Romney #Elderly People need help #Sand...\n",
       "12  Went to my grandparents house to check on them...\n",
       "13  Another thoughtful post from @AgingTech: After...\n",
       "14  ♺ @PicoBee @Nervana_1 @bebird “Wittenberg road...\n",
       "15  The @MarksJCH is doing important disaster reli...\n",
       "16  Please donate to  http://t.co/QxmyZhUv, a tiny...\n",
       "17  We need more funding for disaster research! Al...\n",
       "18  Hundreds at evac ctr @parkslopearmory this is ...\n",
       "19  #sad Elderly couple &amp; their son ran to the..."
      ]
     },
     "execution_count": 78,
     "metadata": {},
     "output_type": "execute_result"
    }
   ],
   "source": [
    "data"
   ]
  },
  {
   "cell_type": "code",
   "execution_count": 61,
   "metadata": {},
   "outputs": [],
   "source": [
    "#row = data.iloc[[2]]"
   ]
  },
  {
   "cell_type": "code",
   "execution_count": 42,
   "metadata": {},
   "outputs": [],
   "source": [
    "#clean_df = data.drop([0, 1,])"
   ]
  },
  {
   "cell_type": "code",
   "execution_count": 63,
   "metadata": {},
   "outputs": [],
   "source": [
    "emergency_df = pd.concat([emergency_df, row])"
   ]
  },
  {
   "cell_type": "code",
   "execution_count": 87,
   "metadata": {},
   "outputs": [],
   "source": [
    "emergency_df[\"class_label\"] = 'emergency'\n",
    "emergency_df.rename(columns={\"tweet\" : \"tweet_text\"}, inplace=True)"
   ]
  },
  {
   "cell_type": "code",
   "execution_count": 67,
   "metadata": {},
   "outputs": [],
   "source": [
    "emergency_df = emergency_df.reset_index(drop=True)"
   ]
  },
  {
   "cell_type": "code",
   "execution_count": 97,
   "metadata": {},
   "outputs": [],
   "source": [
    "#emergency = emergency_df.drop(0, 1)\n",
    "#emergency_df = emergency"
   ]
  },
  {
   "cell_type": "code",
   "execution_count": 100,
   "metadata": {},
   "outputs": [],
   "source": [
    "emergency_df.to_csv('twint.csv', index=False)"
   ]
  },
  {
   "cell_type": "code",
   "execution_count": 99,
   "metadata": {},
   "outputs": [],
   "source": []
  },
  {
   "cell_type": "code",
   "execution_count": null,
   "metadata": {},
   "outputs": [],
   "source": []
  }
 ],
 "metadata": {
  "kernelspec": {
   "display_name": "Python (learn-env)",
   "language": "python",
   "name": "learn-env"
  },
  "language_info": {
   "codemirror_mode": {
    "name": "ipython",
    "version": 3
   },
   "file_extension": ".py",
   "mimetype": "text/x-python",
   "name": "python",
   "nbconvert_exporter": "python",
   "pygments_lexer": "ipython3",
   "version": "3.8.5"
  }
 },
 "nbformat": 4,
 "nbformat_minor": 4
}
