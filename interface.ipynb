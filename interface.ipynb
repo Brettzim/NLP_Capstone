{
 "cells": [
  {
   "cell_type": "code",
   "execution_count": 1,
   "metadata": {},
   "outputs": [
    {
     "name": "stderr",
     "output_type": "stream",
     "text": [
      "[nltk_data] Downloading package stopwords to\n",
      "[nltk_data]     /Users/brettzimmerman/nltk_data...\n",
      "[nltk_data]   Package stopwords is already up-to-date!\n"
     ]
    }
   ],
   "source": [
    "import pandas as pd\n",
    "from sklearn import model_selection\n",
    "from sklearn.naive_bayes import MultinomialNB\n",
    "from sklearn.feature_extraction.text import TfidfVectorizer\n",
    "from imblearn.pipeline import Pipeline\n",
    "import pickle\n",
    "\n",
    "import nltk\n",
    "from nltk.corpus import stopwords\n",
    "from nltk.stem import PorterStemmer\n",
    "from nltk.tokenize import RegexpTokenizer\n",
    "\n",
    "import re\n",
    "import string\n",
    "\n",
    "import nest_asyncio\n",
    "import twint\n",
    "import pandas as pd\n",
    "nest_asyncio.apply()\n",
    "c = twint.Config()\n",
    "\n",
    "#Instantiating NLTK Stopwords\n",
    "nltk.download('stopwords')\n",
    "stopwords = stopwords.words('english')\n",
    "\n",
    "new_stopwords = ['hurricane', 'harvey', 'irma', 'matthew', 'maria', 'hurricaneharvey', 'hurricanemaria', 'hurricaneirma']\n",
    "punctuations = string.punctuation\n",
    "stopwords.extend(new_stopwords)\n",
    "stopwords.extend(punctuations)"
   ]
  },
  {
   "cell_type": "code",
   "execution_count": 2,
   "metadata": {},
   "outputs": [],
   "source": [
    "#from models import tokenize, remove_junk, predict"
   ]
  },
  {
   "cell_type": "code",
   "execution_count": 3,
   "metadata": {},
   "outputs": [],
   "source": [
    "#Creating a function to tokenize text\n",
    "def tokenize(text):\n",
    "    regex_token = RegexpTokenizer(r\"([a-zA-Z]+(?:’[a-z]+)?)\")\n",
    "    tokenized_tweet = regex_token.tokenize(text)\n",
    "    tweet_tokens = [word.lower() for word in tokenized_tweet]\n",
    "    return tweet_tokens"
   ]
  },
  {
   "cell_type": "code",
   "execution_count": 4,
   "metadata": {},
   "outputs": [],
   "source": [
    "#Creating a function to clean the Tweets with Regex\n",
    "def remove_junk(text):\n",
    "    text = re.sub(r'@[A-Za-z0-9#]+', '', str(text)) #remove @mentions \n",
    "    text = re.sub(r'RT[\\s]+', '', str(text)) # remove RT\n",
    "    text = re.sub(r'https?:\\/\\/\\S+', '', text) # removes actual links\n",
    "    text = re.sub(r'#', '', str(text)) # remove hashtag symbol\n",
    "    return text"
   ]
  },
  {
   "cell_type": "code",
   "execution_count": 5,
   "metadata": {},
   "outputs": [],
   "source": [
    "#Creating a function that will apply the model to predict text\n",
    "def predict(pipeline, text):\n",
    "    # Predict the sentiment\n",
    "    #textdata = pipeline.transform()\n",
    "    text = [remove_junk(i) for i in text]\n",
    "    sentiment = pipeline.predict(text)\n",
    "    \n",
    "    # Make a list of text with sentiment.\n",
    "    data = []\n",
    "    for text, pred in zip(text, sentiment):\n",
    "        data.append((text,pred))\n",
    "        \n",
    "    # Convert the list into a Pandas DataFrame.\n",
    "    df = pd.DataFrame(data, columns = ['text','sentiment'])\n",
    "    df = df.replace([0,1,2,3], ['danger', 'emergency', 'other', 'relief'])\n",
    "    return df"
   ]
  },
  {
   "cell_type": "code",
   "execution_count": 6,
   "metadata": {},
   "outputs": [],
   "source": [
    "def twint_to_pd(columns):\n",
    "    return twint.output.panda.Tweets_df[columns]"
   ]
  },
  {
   "cell_type": "code",
   "execution_count": 7,
   "metadata": {},
   "outputs": [
    {
     "name": "stdout",
     "output_type": "stream",
     "text": [
      "1433580493086339073 2021-09-02 19:59:58 -0400 <ragusajr161> @SenTuberville Well, if the United States hadn't abused the Banana Republics for the last two centuries and usurped all their Natural Resources for Corporate profit and then Doused them with Climate Chaos and Multiple Major Hurricanes, we many not have this problem. Imperialism Kills!\n",
      "1433580492918599681 2021-09-02 19:59:58 -0400 <KevinMyattWx> Retweeting this article just to make it clear that Fujita Scale is for tornadoes &amp; Saffir-Simpson is for hurricanes. Made a mental mistake in 1st version of article, now corrected. Exhausting week of hurricane &amp; tornadoes got to me I guess.\n",
      "1433580476267220992 2021-09-02 19:59:54 -0400 <CIArelief> Update from TN after Hurricane Ida 🌀 #HurricaneIda #Disasterrelief #volunteers #bringinghope #redshirts #waverlyfloods-  https://t.co/EvfWm4Ak9R\n",
      "1433580461364760578 2021-09-02 19:59:51 -0400 <mikeOS_X> Hurricane basement water, famcovid (it’s fine), work week from hell, and mower problems all in the same week. I am going to vacation hard as fuck soon.\n",
      "1433580458248396801 2021-09-02 19:59:50 -0400 <JoyceHutchens3> Dozens arrested for looting in New Orleans after Hurricane Ida  https://t.co/ybM9Jtp96V\n",
      "1433580451285901312 2021-09-02 19:59:48 -0400 <rdreise> @77chrisc @iCyclone @wxcrum Hurricane Hazel made it all the way to Toronto, decimating it with rainfall and flooding. From that point forward all flood management was predicated on it's destruction. Homes were never allowed to be built anywhere near the flood plains again.\n",
      "1433580438031847430 2021-09-02 19:59:45 -0400 <ImageKingUSA1> Britney Spears talks about God sending 'curve balls' as she offers her 'thoughts and prayers' to home state of Louisiana after devastating hurricane via  https://t.co/iDmtTZl3Op  https://t.co/2zCk1EPTfH\n",
      "1433580408910725128 2021-09-02 19:59:38 -0400 <LongBeachMayor> Our thoughts are with everyone who continues to be impacted by Hurricane Ida and especially with the loved ones of those who have been lost. These storms continue to become more destructive, and we must take action to address climate change &amp; protect lives.\n",
      "1433580408428539908 2021-09-02 19:59:38 -0400 <erikwill> This next cryptocurrency rally will probably be \"the big one\", like a monster once-in-a-century hurricane.   This will be the largest and most significant wealth shift since the Egyptians built the pyramids. And, I am NOT exaggerating.\n",
      "1433580398664196096 2021-09-02 19:59:36 -0400 <PERsisterER> @ACPressMartucci Today being so sunny, pretty blues skies, a slight breeze, &amp; no humidity was so refreshing! So welcoming after the crazy spin off weather yesterday in NJ from hurricane Ida!\n",
      "1433580390208442374 2021-09-02 19:59:34 -0400 <NeyClaudio2> @donwinslow @chefjoseandres @WCKitchen What I love about him, he works together with the community,  he works hard, he did it in Puerto Rico after Hurricane Maria.\n",
      "1433580376878985221 2021-09-02 19:59:31 -0400 <ifelsefi> @NolaForever @ccali85 @keels81 @ScottWalkerJP @WWLTV The lines are above ground.  Unless tax and ratepayers want to fund their burial everywhere, which would be an insane expense, these outages will happen when high wind slow-moving hurricanes spend hours over Louisiana.\n",
      "1433580361670332426 2021-09-02 19:59:27 -0400 <DameIsBetter> Prayers for everyone affected by hurricane Ida really hope y’all are okay🙏🙏\n",
      "1433580344754769922 2021-09-02 19:59:23 -0400 <thetanaway> school has switch to asynchronous learning because of the hurricane. i’m definitely about to be off social media so i can focus. i hate learning like this ugh.\n",
      "1433580339058909195 2021-09-02 19:59:22 -0400 <karencapria> Widlfires. Drought. Hurricanes. Flood. Tornadoes. Anti-Vaxxers. Supreme Court. Can someone hit the pause button? ⏸\n",
      "1433580332067049472 2021-09-02 19:59:20 -0400 <PlanaWeather> 🌀 8pm tropics outlook from the National Hurricane Center.   Chance of storm development: 🟡 0-40% | 🟠 40-60% | 🔴 60-100%  Visit  https://t.co/J99rUKKQJd for more information. #NHC #NJwx #WxTwitter  https://t.co/ZdZsGrbavP\n",
      "1433580316636160001 2021-09-02 19:59:16 -0400 <Forbes> #HURRICANEIDA: President Biden To Insurance Companies: 'Don't Hide Behind The Fine Print' After Hurricane Ida.  https://t.co/EfgeiRTvsI\n",
      "1433580300978823171 2021-09-02 19:59:13 -0400 <evelulati> man fuck hurricane ida!\n",
      "1433580282083487746 2021-09-02 19:59:08 -0400 <bklynnsupreme> @nbernard926 @TallGlassof_RED @JerBurk @KW33NSOHI9H Ok, there’s no research to be done. The hurricane caused the floods and thats that, idc what levee or wall they had down there, NO is a high risk for hurricanes NY is not\n",
      "1433580268942606374 2021-09-02 19:59:05 -0400 <unsc1325> When Hurricane Sandy relief bill came up in Congress, half of Louisiana delegation voted against it...   Louisiana's Sen Kennedy now offers an amendment to Infrastructure bill that provides $1.1 billion in disaster relief to Louisiana for Hurricanes Laura, Delta and Zeta.\n",
      "1433580231303041028 2021-09-02 19:58:56 -0400 <Gawdbambi> @MANlTHEDON Lmaoooo he basically said if he gotta experience hurricanes then he might as well move to Florida… where they have hurricanes lol\n",
      "1433580228077670401 2021-09-02 19:58:55 -0400 <Tothemo36121084> #safemoonarmy some love and prayers as My brother got hit really bad from the hurricane! Lost everything; cars and all! Thank God he’s safe and his family! Prayers please\n",
      "1433580216316833794 2021-09-02 19:58:52 -0400 <SinisterBoss> @KSamoun1 @MarkMFallon @jacobbogage @OversightDems In my experience in Florida, before and after a hurricane, gas was much more scarce than electricity.\n",
      "1433580209488347162 2021-09-02 19:58:51 -0400 <BrendanWhitt> The Yandhi version of Hurricane is waaaaay better than the Donda version...\n",
      "1433580200269332480 2021-09-02 19:58:49 -0400 <PauletteRuth1> @AMYJOHN82413429 @News12NJDesk @EWRairport @DaveCurren @News12NJ @News12Weather @MichelePowersWx Thankyou. Hope the government can restore these hurricane  still-damaged 3 family homes soon so that they can once again be used and enjoyed by people who need an apartment to live in. I read that the government is trying to make programs to do that. Where and how to apply? Info?\n",
      "1433580190379098130 2021-09-02 19:58:46 -0400 <LailaLalami> Made it out of the hurricane in New York, and now back in California, where the state is on fire.\n",
      "1433580154945740802 2021-09-02 19:58:38 -0400 <shawndrumgold> @50cent Damn! What do we have to live on top of a mountain. This Hurricane season isn’t playing! Sorry to hear bro!\n",
      "1433580142798979076 2021-09-02 19:58:35 -0400 <stumphies> @SINISTERIQS thanks for writing hurricane\n",
      "1433580138680262659 2021-09-02 19:58:34 -0400 <supercvrp17> i’m gonna watch the sg episode when i get out the shower in the stress of a cat 4 hurricane hitting my home i forgot it was coming on\n",
      "1433580123509436417 2021-09-02 19:58:30 -0400 <JustinnBih> @itskeyon hurricane katrina flood water was taking people skin off i think\n",
      "1433580123496882178 2021-09-02 19:58:30 -0400 <josiedst> @joelonais I thought about them when I heard about the hurricane causing tornadoes in NJ. Glad they’re safe!\n",
      "1433580121349308418 2021-09-02 19:58:30 -0400 <dlk245> @RepDonBacon @POTUS He is busy with hurricanes, flooding, wildfires, voting rights and women's right to choose. Try breaking of out of your dead horse on military stuff. There are other issues.\n",
      "1433580105377402885 2021-09-02 19:58:26 -0400 <TwoBitManchild> @hunterharjo7 Hurricane (it’s singular)\n",
      "1433580103032786953 2021-09-02 19:58:25 -0400 <KSNNews> Help from the Heartland: Wichitans and Kansans unite to help the victims of Hurricane Ida  https://t.co/lFYJ3bYoJd\n",
      "1433580088776433666 2021-09-02 19:58:22 -0400 <guinness34> Minted my first #NFT of my talented daughter’s art!  25% of proceeds will go to Hurricane Ida relief.  #IdaAftermath  https://t.co/KzBeXdyA0e\n",
      "1433580076751273984 2021-09-02 19:58:19 -0400 <tpmet> There have never been floods, hurricanes, tornadoes, droughts or forest fires before.  So now, every time one of these events occurs, it is due to climate change.  What a joke!  Look at history people..this has all happened before. #ClimateReligion\n",
      "1433580069104992273 2021-09-02 19:58:17 -0400 <fredrickthuglis> I’m not convinced that the world is ending because of some hurricanes during hurricane season lmao but if Arizona get one of them mfs it’s over with\n",
      "1433580068610220033 2021-09-02 19:58:17 -0400 <RiffChick> @elonjames I'm sorry man but growing up here we had Hurricane Floyd, Major snowstorms in '93,  95, '96, and other years I can't remember, and plenty of flooded basements in my memory  And south Philly homes are pretty much known to have leaky basements\n",
      "1433580022468599808 2021-09-02 19:58:06 -0400 <shawnacaspi> Hurricane Coming has been out for almost a week now and my heart's been warmed by all the messages and photos of folks with their CDs and postcards.  If you're curious about the 🎨paintings inspired by each song on the album, you can read about them here:  https://t.co/7nEBxvYct9\n",
      "1433580016047214594 2021-09-02 19:58:05 -0400 <freedomusa27> California burning, Hurricane Ida hits Louisiana, New Jersey and New York. All democratic run states, and this dick Schumer is talking about global warming. God works in mysterious ways.\n",
      "1433580010854658056 2021-09-02 19:58:03 -0400 <JimboMopper> Why didn't the democrat mayor of New Orleans order mandatory evacuations? What incentive was there for Voluntary vs. Mandatory. May coastal counties in North Carolina chose to ignore Mandatory Evacs as well with Hurricane Florence. Democrat Mayors also. What are we not seeing?\n",
      "1433580008845582338 2021-09-02 19:58:03 -0400 <Marcus4Georgia> Seeing the images and video coming from the destruction lashed upon the Northeast is devastating.   My thoughts are with all of those who have been affected by the remnants of Hurricane Ida.\n",
      "1433580001929084929 2021-09-02 19:58:01 -0400 <jomaga_alemao3> @Scheidt72 essa e Hurricane\n",
      "1433579997999026176 2021-09-02 19:58:00 -0400 <ArkBaptNews> Dr. J.D. “Sonny” Tucker of the Arkansas Baptist State Convention rallies behind Disaster Relief as volunteers aid those affected by Hurricane Ida. ’ https://t.co/TxRjLph1XZ\n",
      "1433579979552407572 2021-09-02 19:57:56 -0400 <feelingskey> Have a hurricane moment on a narrow balcony space in my chest.. let me blow blow blow you.\n",
      "1433579974741594112 2021-09-02 19:57:55 -0400 <OhioIndy1> @CBSNews It appears that between Afghanistan and Hurricane Ida @Sen_JoeManchin has not been in the spotlight as much as he would like. So now he has found a way to recapture the spotlight. Ego before country.\n",
      "1433579962758569984 2021-09-02 19:57:52 -0400 <rebeccanagle> For all the folks saying people shouldn’t live in the path of hurricanes or wildfires… quick question.   Where do you plan to live that will be safe from the growing climate crisis?\n",
      "1433579948858650629 2021-09-02 19:57:49 -0400 <StopBoiWX> Hurricane Ida has dealt atleast $50 billion in total. It is the 6th costliest TC in recorded history.   https://t.co/E3HpO06LLz\n",
      "1433579922359037952 2021-09-02 19:57:42 -0400 <ebatistas2k> Hurricane is such a banger 🥲😭\n",
      "1433579919984967680 2021-09-02 19:57:42 -0400 <Dr_Nifkin> Hurricane Larry Website\n",
      "1433579907100073991 2021-09-02 19:57:39 -0400 <donuttttts> what do people say when they see hurricane ida? ida-HO\n",
      "1433579904189313025 2021-09-02 19:57:38 -0400 <Spenser_Tilus> Golden Hurricane can’t get anything going and are forced to punt it right back. Ball goes into the end zone for a touchback with 5:56 to play 1Q\n",
      "1433579892747210756 2021-09-02 19:57:35 -0400 <EPalkowetz> @cartermackenzie Oh thanks the hurricane parts of it was worse on Wednesday for Pennsylvania  https://t.co/onILF9q1hl\n",
      "1433579883221827607 2021-09-02 19:57:33 -0400 <chioma_was_here> How is human adaptation going to stop us from dying in a hurricane???? Will we magically have super powers???\n",
      "1433579875999404032 2021-09-02 19:57:31 -0400 <TightOff> I love a good big telecom dragging but just like with Verizon after Hurricane Michael, when towns and cities are just wiped off the map and basic infrastructure is destroyed, you can't blame a telecom company for losing service.  I blame the city that signed a cloud deal w/ AT&amp;T.\n",
      "1433579851160735756 2021-09-02 19:57:25 -0400 <jessicahalem> Live update from Cape Cod after last night’s Hurricane Ida Tornado Warning in Wellfleet!  https://t.co/dFIa0ZNmNp\n",
      "1433579847360696324 2021-09-02 19:57:24 -0400 <anshelsag> @Krewell Uh, I don't think the hurricane was predicted when the event was being planned? Also, nobody knows where it'll go or what it'll do days after it hits the coast until maybe a day or two before?\n",
      "1433579846769205248 2021-09-02 19:57:24 -0400 <QbertCobain> Never forget that @realDonaldTrump would already be tossing paper towels at hurricane victims, way sooner than sleepy Joe ever could  I miss having a can-do president like Trump\n",
      "1433579846131752960 2021-09-02 19:57:24 -0400 <Deccatori> @SamanthaNeel @beavis617 @GeorgeTakei The states that have worse weather have better laws. Where I live we don’t need a/c and we don’t have hurricanes or tornadoes, but we have blizzards and human rights.\n",
      "1433579839634739206 2021-09-02 19:57:23 -0400 <AjObrian2> @therealmikedean Fix hurricane on deluxe pls\n",
      "1433579836665208834 2021-09-02 19:57:22 -0400 <steadybloggin> the hurricane really washed away the summer, I'm freezing with just windows open and no fan on in a room that for the last 3 months it was impossible to cool down without running ac on high\n",
      "1433579824971403270 2021-09-02 19:57:19 -0400 <therachelplan> first day of school and my class was already cancelled due to subway delays bc of hurricane ida 🤪 guess we’ll try again on Tuesday\n",
      "1433579818424098823 2021-09-02 19:57:17 -0400 <kmrandall64> Good Samaritans Rescue 60 Cows From Hurricane Ida Waters  https://t.co/hZBQCtpbL8 #SnapOutofIt #SociallyAware\n",
      "1433579807070113797 2021-09-02 19:57:15 -0400 <cybercuse> When I say hurricane and somebody correct me and says tropical storm  https://t.co/aXV21s19jR\n",
      "1433579798933168129 2021-09-02 19:57:13 -0400 <JohnRossMD> @BMcNoldy @UMiamiRSMAS @capitalweather Does more easterly hurricane formation favor these storms tracking out to sea, or is it pure blind luck that few of them made landfall?\n",
      "1433579773528264708 2021-09-02 19:57:07 -0400 <AlottaTweets> Been real depressed today seeing the death toll in New York. Shit is nuts. I didn't get enough sleep last night. I'm terrified of another storm happening. I just want hurricane season to be over.\n",
      "1433579767895314432 2021-09-02 19:57:05 -0400 <satisfiedjose> hurricane / the weeknd / top tier\n",
      "1433579760282738698 2021-09-02 19:57:04 -0400 <tamarieeee> Literally lost my mind when I founded out we’re the only ones that have hurricanes 😭\n",
      "1433579742905647107 2021-09-02 19:56:59 -0400 <Brie82274214> @AndrewWBloom Between hurricanes, COVID, and the cult of Dump-i'll stay above the Mason-Dixon line.\n",
      "1433579732130533379 2021-09-02 19:56:57 -0400 <itshhhr> kanye west - hurricane  on repeat 🔥🔥🔥\n",
      "1433579715965567021 2021-09-02 19:56:53 -0400 <seeCFC> New Orleanians swelter through days without power - Brutal heat follows wreckage of Hurricane Ida, with many residents unaware of city’s offers of assistance- Needed; instructions how to reach out wo a phone &amp; a helicopter for distribution &amp; coordination.  https://t.co/xeW0rsQt9Z\n",
      "1433579679387111426 2021-09-02 19:56:44 -0400 <dkaplanartist> Storm clouds from the remains of Hurricane Ida. #dkaplanartist #southjersey #eggharbortownship #storms #dragaroundthelake @ Egg Harbor Township, New Jersey  https://t.co/GvVJXKX6me\n",
      "1433579678405701632 2021-09-02 19:56:44 -0400 <MaritimeJared> @gps_tx @MarkLevineNYC Yes but Texas gets hit directly by hurricanes and tropical storms right off the Caribbean. Texas has a lot of rainfall records. Still crazy though!   Missouri got 12 inches of rain in an hour once. At least, that’s what she said.  I’ll see myself out.\n",
      "1433579672688898053 2021-09-02 19:56:43 -0400 <Jowharcom> Dozens Killed as Hurricane Ida Causes Flash Flooding in New York Area  https://t.co/9JZyhEntNF\n",
      "1433579671292157954 2021-09-02 19:56:42 -0400 <Lockedred2> It had been looking like a low key post hurricane day. But a neighbor texted me out of the blue saying he was strolling in the park. Couldn't let him \"stroll\" alone right? So I wrapped up what I was doing and went to meet him.\n",
      "1433579667437539334 2021-09-02 19:56:41 -0400 <RT_com> 2yo NYC boy among 40+ killed after Hurricane Ida remnants pummel US northeast with heavy rain, flash floods &amp; tornadoes (VIDEOS)  https://t.co/N9f7iJD7UY\n",
      "1433579665692758020 2021-09-02 19:56:41 -0400 <WxZachary> I was banned during Hurricane Ida for going live. They stated I was promoting “dangerous acts”. Although I was in a vehicle, not in the open and safely doing so from a parking garage. They’ve since removed the violation.\n",
      "1433579647128817666 2021-09-02 19:56:37 -0400 <LetoII8> @StephJmom @MelissaJPeltier @Ojeda4America He clearly was on holiday during the massive hurricane in 1987. The blackout in 2003, floods of 2007, storm of 2013 &amp; 2015. YT is not a place for facts.\n",
      "1433579644318539786 2021-09-02 19:56:36 -0400 <AafertiAmunRe> to become powerful Category 4 storm  https://t.co/sfaDeJ5Vh3 David and Goliath  https://t.co/sM6qNhSp9F… Hurricane \"Ida\" \"Apocalyptic Events\" 2021 https://youtu.be/0c1RB05nSeY Keeper of The Flame  https://t.co/QVHQUALrB3   the two followings links will CLARIFY THE FACT THAT THE  https://t.co/XNYuHUlRex\n",
      "[!] No more data! Scraping will stop now.\n",
      "found 0 deleted tweets in this search.\n"
     ]
    }
   ],
   "source": [
    "c.Search= 'hurricane'\n",
    "c.Lang= 'en'\n",
    "c.Pandas= True\n",
    "c.Limit= 100\n",
    "c.Since = '2021-8-25'\n",
    "c.Until = '2021-9-04'\n",
    "twint.run.Search(c)"
   ]
  },
  {
   "cell_type": "code",
   "execution_count": 8,
   "metadata": {},
   "outputs": [],
   "source": [
    "data = twint_to_pd(['tweet'])\n",
    "test_list = data['tweet'].tolist()"
   ]
  },
  {
   "cell_type": "code",
   "execution_count": 9,
   "metadata": {},
   "outputs": [
    {
     "name": "stdout",
     "output_type": "stream",
     "text": [
      "                                                 text sentiment\n",
      "0    Well, if the United States hadn't abused the ...    danger\n",
      "1   Retweeting this article just to make it clear ...     other\n",
      "2   Update from TN after Hurricane Ida 🌀 Hurricane...    relief\n",
      "3   Hurricane basement water, famcovid (it’s fine)...     other\n",
      "4   Dozens arrested for looting in New Orleans aft...     other\n",
      "..                                                ...       ...\n",
      "74  It had been looking like a low key post hurric...     other\n",
      "75  2yo NYC boy among 40+ killed after Hurricane I...    danger\n",
      "76  I was banned during Hurricane Ida for going li...    danger\n",
      "77     He clearly was on holiday during the massiv...    danger\n",
      "78  to become powerful Category 4 storm   David an...    danger\n",
      "\n",
      "[79 rows x 2 columns]\n"
     ]
    }
   ],
   "source": [
    "# Load model of choice: naive_bayes, logistic_regression, roberta\n",
    "with open('naive_bayes.pickle', 'rb') as file:\n",
    "    classifier = pickle.load(file)\n",
    "sentiment = predict(classifier, test_list)\n",
    "print(sentiment)"
   ]
  },
  {
   "cell_type": "code",
   "execution_count": 10,
   "metadata": {},
   "outputs": [],
   "source": [
    "relief = sentiment.loc[sentiment['sentiment'] == 'relief']\n",
    "relief['text'].to_csv('relief.csv', index=False)\n",
    "\n",
    "danger = sentiment.loc[sentiment['sentiment'] == 'danger']\n",
    "danger['text'].to_csv('danger.csv', index=False)\n",
    "\n",
    "emergency = sentiment.loc[sentiment['sentiment'] == 'emergency']\n",
    "emergency['text'].to_csv('emergency.csv', index=False)\n",
    "\n",
    "other = sentiment.loc[sentiment['sentiment'] == 'other']\n",
    "other['text'].to_csv('other.csv', index=False)"
   ]
  }
 ],
 "metadata": {
  "kernelspec": {
   "display_name": "Python (learn-env)",
   "language": "python",
   "name": "learn-env"
  },
  "language_info": {
   "codemirror_mode": {
    "name": "ipython",
    "version": 3
   },
   "file_extension": ".py",
   "mimetype": "text/x-python",
   "name": "python",
   "nbconvert_exporter": "python",
   "pygments_lexer": "ipython3",
   "version": "3.8.5"
  }
 },
 "nbformat": 4,
 "nbformat_minor": 4
}
